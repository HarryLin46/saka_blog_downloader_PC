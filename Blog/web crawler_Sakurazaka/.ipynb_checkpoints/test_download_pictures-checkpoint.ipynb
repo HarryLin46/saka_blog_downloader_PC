{
 "cells": [
  {
   "cell_type": "code",
   "execution_count": 2,
   "id": "ad1d6aef",
   "metadata": {},
   "outputs": [
    {
     "name": "stdout",
     "output_type": "stream",
     "text": [
      "Requirement already satisfied: beautifulsoup4 in c:\\users\\harry\\anaconda3\\lib\\site-packages (4.10.0)\n",
      "Requirement already satisfied: soupsieve>1.2 in c:\\users\\harry\\anaconda3\\lib\\site-packages (from beautifulsoup4) (2.3.1)\n",
      "Requirement already satisfied: pip in c:\\users\\harry\\anaconda3\\lib\\site-packages (22.2.2)\n"
     ]
    }
   ],
   "source": [
    "!pip install beautifulsoup4\n",
    "!python.exe -m pip install --upgrade pip"
   ]
  },
  {
   "cell_type": "code",
   "execution_count": 3,
   "id": "cc7bf642",
   "metadata": {},
   "outputs": [],
   "source": [
    "import requests,bs4,os,json,time"
   ]
  },
  {
   "cell_type": "code",
   "execution_count": 4,
   "id": "a2cb157a",
   "metadata": {},
   "outputs": [],
   "source": [
    "deskDir = 'Sakurazaka46'\n",
    "if os.path.exists(deskDir) == False:\n",
    "    os.mkdir(deskDir)"
   ]
  },
  {
   "cell_type": "code",
   "execution_count": 5,
   "id": "bc9c98f7",
   "metadata": {},
   "outputs": [],
   "source": [
    "url = 'https://sakurazaka46.com/s/s46/diary/detail/45141?ima=1414&cd=blog'\n",
    "html = requests.get(url)\n",
    "objSoup = bs4.BeautifulSoup(html.text,'lxml')\n",
    "# print('網頁下載中')\n",
    "# html.raise_for_status()\n",
    "# print('網頁下載成功')"
   ]
  },
  {
   "cell_type": "code",
   "execution_count": 8,
   "id": "a50ca28f",
   "metadata": {},
   "outputs": [
    {
     "name": "stdout",
     "output_type": "stream",
     "text": [
      "<div class=\"box-article\">\n",
      "<div>　</div><div>　</div><div><br/><div class=\"gmail_quote\"><div><div>　</div><div>　</div><div>　</div><div dir=\"auto\">みなさん、こんにちは</div><div>　</div><div dir=\"auto\">櫻坂46 二期生の森田ひかるです🌱</div><div>　</div><div>　</div><div>　</div><div>　</div><div>　</div><div>　</div><div>　</div><div>　</div><div dir=\"auto\">遅くなりましたが、、</div><div>　</div><div dir=\"auto\">1stアルバム「As you know?」のリード曲</div><div dir=\"auto\">「摩擦係数」のミュージックビデオが</div><div dir=\"auto\">公開されています！</div><div>　</div><div>　</div><div dir=\"auto\">まだ書けていなかったので、今回は</div><div dir=\"auto\">「摩擦係数」ブログです〜</div><div>　</div><div>　</div><div>　</div><div>　</div><div dir=\"auto\"><div><div><img src=\"/files/14/diary/s46/blog/moblog/202208/mobNRSNzB.jpg\" style=\"width:896px;max-width:100%\"/></div><br/></div></div><div>　</div><div>　</div><div>　</div><div>　</div><div dir=\"auto\">今回は、池田一真監督が撮って下さいました。</div><div>　</div><div dir=\"auto\">3rdシングルの「流れ弾」から一年経ち、</div><div dir=\"auto\">またこうしてご一緒する事ができて</div><div dir=\"auto\">とても嬉しいです。</div><div>　</div><div dir=\"auto\">有難うございます！</div><div>　</div><div>　</div><div>　</div><div>　</div><div dir=\"auto\">\"野生\"×\"理性\"というテーマで撮影しました。</div><div>　</div><div dir=\"auto\">対照的に見えるシーンもありますが、</div><div dir=\"auto\">対抗しているわけではなく、お互いを</div><div dir=\"auto\">認め合い、時には高め合うような関係性で</div><div dir=\"auto\">実際にも話し合いながら撮影しました。</div><div>　</div><div>　</div><div dir=\"auto\">細かな部分まで観ていただけたらと</div><div dir=\"auto\">思います^ ^</div><div>　</div><div>　</div><div>　</div><div>　</div><div>　</div><div>　</div><div>　</div><div>　</div><div>　</div><div>　</div><div>　</div><div>　</div><div>　</div><div>　</div><div>　</div><div dir=\"auto\"><div><img src=\"/files/14/diary/s46/blog/moblog/202208/mob3pIauX.jpg\" style=\"width:896px;max-width:100%\"/></div><br/></div><div>　</div><div dir=\"auto\"><div><img src=\"/files/14/diary/s46/blog/moblog/202208/mob7MAkMk.jpg\" style=\"width:896px;max-width:100%\"/></div></div><div>　</div><div>　</div><div>　</div><div>　</div><div dir=\"auto\"><div><img src=\"/files/14/diary/s46/blog/moblog/202208/mobfkxQVI.jpg\" style=\"width:896px;max-width:100%\"/></div><br/></div><div dir=\"auto\">↑ゆみこかめらに撮ってもらったよ〜</div><div>　</div><div dir=\"auto\">ありがとう🐱</div><div>　</div><div>　</div><div dir=\"auto\"><div><img src=\"/files/14/diary/s46/blog/moblog/202208/mobP8NW87.jpg\" style=\"width:750px;max-width:100%\"/></div><br/></div><div dir=\"auto\">パンツスタイルの衣装、新鮮で良いよね〜</div><div>　</div><div dir=\"auto\">毎回、綺麗にして下さる衣装さんに</div><div dir=\"auto\">感謝ですー！！</div><div>　</div><div>　</div><div dir=\"auto\"><div><img src=\"/files/14/diary/s46/blog/moblog/202208/mobfKln0y.jpg\" style=\"width:896px;max-width:100%\"/></div></div><div>　</div><div dir=\"auto\">たけちゃん、夏鈴と！</div><div>　</div><div>　</div><div dir=\"auto\"><div><img src=\"/files/14/diary/s46/blog/moblog/202208/mobzoIQt1.jpg\" style=\"width:896px;max-width:100%\"/></div><br/></div><div dir=\"auto\">チーム野生💃</div><div>　</div><div>　</div><div dir=\"auto\"><div><img src=\"/files/14/diary/s46/blog/moblog/202208/mobRIyO7v.jpg\" style=\"width:750px;max-width:100%\"/></div><br/></div><div dir=\"auto\"><div dir=\"auto\">おてん〜</div><div>　</div><div dir=\"auto\">素敵な相方です✊🏻</div><div>　</div><div>　</div><div dir=\"auto\"><div><img src=\"/files/14/diary/s46/blog/moblog/202208/mobJnaaO3.jpg\" style=\"width:749px;max-width:100%\"/></div><br/></div><div dir=\"auto\">あら、野生になったみたい</div><div>　</div><div>　</div><div>　</div><div dir=\"auto\"><div><img src=\"/files/14/diary/s46/blog/moblog/202208/mobtNigqD.jpg\" style=\"width:896px;max-width:100%\"/></div><br/></div><div dir=\"auto\">前髪あげてみた〜</div><div>　</div><div>　</div><div>　</div><div>　</div><div>　</div><div>　</div><div>　</div><div>　</div><div>　</div><div>　</div><div>　</div><div>　</div><div>　</div><div>　</div><div>　</div><div dir=\"auto\">改めて、、</div><div>　</div><div dir=\"auto\">「摩擦係数」よろしくお願いしますー！🌸</div><div>　</div><div dir=\"auto\"><div><a href=\"https://youtu.be/D8piCp9XMKA\" target=\"_blank\">https://youtu.be/D8piCp9XMKA</a></div><br/></div><div>　</div><div>　</div><div>　</div><div>　</div><div>　</div><div>　</div><div>　</div><div>　</div><div>　</div><div>　</div><div>　</div><div dir=\"auto\">最後まで読んで下さり、有難うございました！</div><div>　</div><div>　</div><div>　</div><div>　</div><div>　</div><div dir=\"auto\">おしまい🌱</div><div>　</div><div>　</div><div>　</div><div>　</div><div>　</div><div>　</div><div>　</div><div>　</div><div>　</div><div>　</div><div>　</div></div><div>　</div><div dir=\"auto\"><div>　</div></div><div>　</div><div>　</div>\n",
      "</div>\n",
      "</div></div>\n",
      "</div>\n"
     ]
    }
   ],
   "source": [
    "box = objSoup.find('div',class_ = \"box-article\")\n",
    "print(box)\n"
   ]
  },
  {
   "cell_type": "code",
   "execution_count": 10,
   "id": "a3a32c2e",
   "metadata": {},
   "outputs": [
    {
     "name": "stdout",
     "output_type": "stream",
     "text": [
      "10\n"
     ]
    }
   ],
   "source": [
    "imgTag = box.find_all('img')\n",
    "print(len(imgTag))"
   ]
  },
  {
   "cell_type": "code",
   "execution_count": 26,
   "id": "0a81be94",
   "metadata": {},
   "outputs": [
    {
     "name": "stdout",
     "output_type": "stream",
     "text": [
      "摩擦係数\n"
     ]
    }
   ],
   "source": [
    "blog_title = objSoup.find('h1', class_ = \"title\").text\n",
    "\n",
    "print(blog_title)"
   ]
  },
  {
   "cell_type": "code",
   "execution_count": 25,
   "id": "ef728725",
   "metadata": {},
   "outputs": [
    {
     "name": "stdout",
     "output_type": "stream",
     "text": [
      "20220815\n"
     ]
    }
   ],
   "source": [
    "dateTime_raw = objSoup.find_all('p', class_ = \"date wf-a\")\n",
    "dateTime = dateTime_raw[1].text.split('/')\n",
    "date = dateTime[0] + dateTime[1] + dateTime[2][:2]\n",
    "\n",
    "print(date)"
   ]
  },
  {
   "cell_type": "code",
   "execution_count": 39,
   "id": "f8554395",
   "metadata": {},
   "outputs": [
    {
     "name": "stdout",
     "output_type": "stream",
     "text": [
      "['2022', '8', '8 18:30']\n"
     ]
    }
   ],
   "source": [
    "a = '2022.8.8 18:30'\n",
    "b = a.split('.')\n",
    "print(b)\n",
    "# year,month,day = b[0],b[1].zfill(2),b[2][:-6].zfill(2)\n",
    "# print(year)\n",
    "# print(month)\n",
    "# print(day)"
   ]
  },
  {
   "cell_type": "code",
   "execution_count": 40,
   "id": "59003e7f",
   "metadata": {},
   "outputs": [
    {
     "name": "stdout",
     "output_type": "stream",
     "text": [
      "20\n",
      "4\n",
      "https://cdn.hinatazaka46.com/files/14/diary/official/member/moblog/202208/mobhGZM6e.jpg\n"
     ]
    }
   ],
   "source": [
    "blog_tag = objSoup.find_all('div', class_ = \"c-blog-article__text\")\n",
    "print(len(blog_tag))\n",
    "imgTag = blog_tag[1].find_all('img')\n",
    "print(len(imgTag))\n",
    "print(imgTag[0].get('src'))"
   ]
  },
  {
   "cell_type": "code",
   "execution_count": 41,
   "id": "11ca4a20",
   "metadata": {},
   "outputs": [],
   "source": [
    "# main_objSoup = bs4.BeautifulSoup(html.text,'lxml')"
   ]
  },
  {
   "cell_type": "code",
   "execution_count": null,
   "id": "91a3b357",
   "metadata": {},
   "outputs": [],
   "source": []
  },
  {
   "cell_type": "code",
   "execution_count": 27,
   "id": "ff1b82e6",
   "metadata": {},
   "outputs": [],
   "source": [
    "def download_pictures(blog_url,blog_index):\n",
    "    global current_new,download_complete\n",
    "    #url = https://www.nogizaka46.com/s/n46/diary/detail/100577?ima=2936&cd=MEMBER\n",
    "    html = requests.get(blog_url)\n",
    "    time.sleep(1)\n",
    "    objSoup = bs4.BeautifulSoup(html.text,'lxml')\n",
    "    \n",
    "    box = objSoup.find('div',class_ = \"box-article\")\n",
    "    imgTag = box.find_all('img')\n",
    "    \n",
    "    author_member = '森田 ひかる'\n",
    "    \n",
    "    blog_title = objSoup.find('h1', class_ = \"title\").text\n",
    "    \n",
    "    dateTime_raw = objSoup.find_all('p', class_ = \"date wf-a\")\n",
    "    dateTime = dateTime_raw[1].text.split('/')\n",
    "    date = dateTime[0] + dateTime[1] + dateTime[2][:2]\n",
    "    \n",
    "    \n",
    "    data = [dateTime_raw,author_member,blog_title]\n",
    "    if data == current_new: #we can stop here\n",
    "        download_complete = True\n",
    "    else:\n",
    "        #blog_title may not a good directory name\n",
    "        blog_title = blog_title[:150]\n",
    "        special_char = r'/\\:*?\"<>|'\n",
    "        for i in special_char:\n",
    "            blog_title = blog_title.replace(i,'')\n",
    "\n",
    "        dir_path_member = './Sakurazaka46/' + author_member\n",
    "        dir_path = './Sakurazaka46/' + author_member + '/' + date + ' ' + blog_title\n",
    "        \n",
    "        #the space at the end of blog_title should be remove\n",
    "        dir_path = dir_path.rstrip(' .')\n",
    "        \n",
    "        if os.path.exists(dir_path_member) == False:\n",
    "            os.mkdir(dir_path_member)\n",
    "        if os.path.exists(dir_path) == False:\n",
    "            os.mkdir(dir_path)\n",
    "            if len(imgTag) > 0 :\n",
    "                for i in range(len(imgTag)):\n",
    "                    imgUrl = imgTag[i].get('src')\n",
    "\n",
    "                    try:\n",
    "                        is_effective_url = (not imgUrl is None) and ((imgUrl[-4:] in ['.jpg','.tif','.png']) or (imgUrl[-5:] in ['.jpeg']))\n",
    "                        if is_effective_url: #we may catch something we don't want(no 'src') \n",
    "                            finUrl = url[:24] + imgUrl\n",
    "                            \n",
    "                            picture = requests.get(finUrl)\n",
    "                            time.sleep(0.5)\n",
    "                            picture.raise_for_status()\n",
    "            #                 print('%s 圖片下載成功' %finUrl)\n",
    "\n",
    "                            pictFile = open(os.path.join(dir_path,str(i).zfill(2) + (imgUrl[-4:] if imgUrl[-4:] in ['.jpg','.tif','.png'] else imgUrl[-5:])),'wb')\n",
    "                            for diskStorage in picture.iter_content(1024*1024):\n",
    "                                pictFile.write(diskStorage)\n",
    "                            pictFile.close()\n",
    "                    except requests.exceptions.HTTPError:\n",
    "                        print(current_page,blog_index+1,'找不到網頁! 照片可能被鎖了',author_member,blog_title)\n",
    "                        \n",
    "                    except:\n",
    "                        print(current_page,blog_index+1,'新的未知錯誤出現! 可能是異常個案',author_member,blog_title)\n",
    "        else:\n",
    "            print('看到重複的部落格了')"
   ]
  },
  {
   "cell_type": "code",
   "execution_count": 28,
   "id": "7abf69d8",
   "metadata": {},
   "outputs": [],
   "source": [
    "current_new = ''\n",
    "download_complete = False\n",
    "current_page = 1"
   ]
  },
  {
   "cell_type": "code",
   "execution_count": 30,
   "id": "a8a103e1",
   "metadata": {},
   "outputs": [],
   "source": [
    "url = 'https://sakurazaka46.com/s/s46/diary/detail/45008?ima=1414&cd=blog'\n",
    "download_pictures(url,4)"
   ]
  },
  {
   "cell_type": "code",
   "execution_count": 45,
   "id": "ee7626c6",
   "metadata": {},
   "outputs": [
    {
     "name": "stdout",
     "output_type": "stream",
     "text": [
      "檔案找不到! 可能路徑有錯或部落格名稱太長\n"
     ]
    }
   ],
   "source": [
    "try:\n",
    "    download_pictures(url,4)\n",
    "except FileExistsError as e:\n",
    "    print('檔案已存在! 載到重複的部落格')\n",
    "except FileNotFoundError as e:\n",
    "    print('檔案找不到! 可能路徑有錯或部落格名稱太長')"
   ]
  },
  {
   "cell_type": "code",
   "execution_count": 10,
   "id": "d9d1052f",
   "metadata": {},
   "outputs": [
    {
     "name": "stdout",
     "output_type": "stream",
     "text": [
      "肋骨にのめり込む頭と聞くと、痛々しい姿を想像するかもしれない。車の揺れに合わせて、そのしなだれた頭はメリメリとのめり込んでいく。たしかに肋骨はその重みを感じ、強く押されている箇所ははっきり指をさして、ここめり込んでるんだけど！と言いたくなるくらいではある。誰もが思うだろう、やめてくれと。だがここでは違う。その頭は愛する仲間の頭。この重みは少し飲んだ日本酒のせいだ。口に含む程度で止めると言っていたはずが、頭が揺れるほどになるまで気が付かなかった。この重みは愛しい重みか。揺れだけ少し抑えてほしいところだが、今\n"
     ]
    }
   ],
   "source": [
    "a = '肋骨にのめり込む頭と聞くと、痛々しい姿を想像するかもしれない。車の揺れに合わせて、そのしなだれた頭はメリメリとのめり込んでいく。たしかに肋骨はその重みを感じ、強く押されている箇所ははっきり指をさして、ここめり込んでるんだけど！と言いたくなるくらいではある。誰もが思うだろう、やめてくれと。だがここでは違う。その頭は愛する仲間の頭。この重みは少し飲んだ日本酒のせいだ。口に含む程度で止めると言っていたはずが、頭が揺れるほどになるまで気が付かなかった。この重みは愛しい重みか。揺れだけ少し抑えてほしいところだが、今'\n",
    "print(a[:255])"
   ]
  },
  {
   "cell_type": "code",
   "execution_count": 19,
   "id": "39087cbe",
   "metadata": {},
   "outputs": [
    {
     "name": "stdout",
     "output_type": "stream",
     "text": [
      "0 肋\n",
      "1 骨\n",
      "2 に\n",
      "3 の\n",
      "4 め\n",
      "5 り\n",
      "6 込\n",
      "7 む\n",
      "8 頭\n",
      "9 と\n",
      "10 聞\n",
      "11 く\n",
      "12 と\n",
      "13 、\n",
      "14 痛\n",
      "15 々\n",
      "16 し\n",
      "17 い\n",
      "18 姿\n",
      "19 を\n",
      "20 想\n",
      "21 像\n",
      "22 す\n",
      "23 る\n",
      "24 か\n",
      "25 も\n",
      "26 し\n",
      "27 れ\n",
      "28 な\n",
      "29 い\n",
      "30 。\n",
      "31 車\n",
      "32 の\n",
      "33 揺\n",
      "34 れ\n",
      "35 に\n",
      "36 合\n",
      "37 わ\n",
      "38 せ\n",
      "39 て\n",
      "40 、\n",
      "41 そ\n",
      "42 の\n",
      "43 し\n",
      "44 な\n",
      "45 だ\n",
      "46 れ\n",
      "47 た\n",
      "48 頭\n",
      "49 は\n",
      "50 メ\n",
      "51 リ\n",
      "52 メ\n",
      "53 リ\n",
      "54 と\n",
      "55 の\n",
      "56 め\n",
      "57 り\n",
      "58 込\n",
      "59 ん\n",
      "60 で\n",
      "61 い\n",
      "62 く\n",
      "63 。\n",
      "64 た\n",
      "65 し\n",
      "66 か\n",
      "67 に\n",
      "68 肋\n",
      "69 骨\n",
      "70 は\n",
      "71 そ\n",
      "72 の\n",
      "73 重\n",
      "74 み\n",
      "75 を\n",
      "76 感\n",
      "77 じ\n",
      "78 、\n",
      "79 強\n",
      "80 く\n",
      "81 押\n",
      "82 さ\n",
      "83 れ\n",
      "84 て\n",
      "85 い\n",
      "86 る\n",
      "87 箇\n",
      "88 所\n",
      "89 は\n",
      "90 は\n",
      "91 っ\n",
      "92 き\n",
      "93 り\n",
      "94 指\n",
      "95 を\n",
      "96 さ\n",
      "97 し\n",
      "98 て\n",
      "99 、\n",
      "100 こ\n",
      "101 こ\n",
      "102 め\n",
      "103 り\n",
      "104 込\n",
      "105 ん\n",
      "106 で\n",
      "107 る\n",
      "108 ん\n",
      "109 だ\n",
      "110 け\n",
      "111 ど\n",
      "112 ！\n",
      "113 と\n",
      "114 言\n",
      "115 い\n",
      "116 た\n",
      "117 く\n",
      "118 な\n",
      "119 る\n",
      "120 く\n",
      "121 ら\n",
      "122 い\n",
      "123 で\n",
      "124 は\n",
      "125 あ\n",
      "126 る\n",
      "127 。\n",
      "128 誰\n",
      "129 も\n",
      "130 が\n",
      "131 思\n",
      "132 う\n",
      "133 だ\n",
      "134 ろ\n",
      "135 う\n",
      "136 、\n",
      "137 や\n",
      "138 め\n",
      "139 て\n",
      "140 く\n",
      "141 れ\n",
      "142 と\n",
      "143 。\n",
      "144 だ\n",
      "145 が\n",
      "146 こ\n",
      "147 こ\n",
      "148 で\n",
      "149 は\n",
      "150 違\n",
      "151 う\n",
      "152 。\n",
      "153 そ\n",
      "154 の\n",
      "155 頭\n",
      "156 は\n",
      "157 愛\n",
      "158 す\n",
      "159 る\n",
      "160 仲\n",
      "161 間\n",
      "162 の\n",
      "163 頭\n",
      "164 。\n",
      "165 こ\n",
      "166 の\n",
      "167 重\n",
      "168 み\n",
      "169 は\n",
      "170 少\n",
      "171 し\n",
      "172 飲\n",
      "173 ん\n",
      "174 だ\n",
      "175 日\n",
      "176 本\n",
      "177 酒\n",
      "178 の\n",
      "179 せ\n",
      "180 い\n",
      "181 だ\n",
      "182 。\n",
      "183 口\n",
      "184 に\n",
      "185 含\n",
      "186 む\n",
      "187 程\n",
      "188 度\n",
      "189 で\n",
      "190 止\n",
      "191 め\n",
      "192 る\n",
      "193 と\n",
      "194 言\n",
      "195 っ\n",
      "196 て\n",
      "197 い\n",
      "198 た\n",
      "199 は\n",
      "200 ず\n",
      "201 が\n",
      "202 、\n",
      "203 頭\n",
      "204 が\n",
      "205 揺\n",
      "206 れ\n",
      "207 る\n",
      "208 ほ\n",
      "209 ど\n",
      "210 に\n",
      "211 な\n",
      "212 る\n",
      "213 ま\n",
      "214 で\n",
      "215 気\n",
      "216 が\n",
      "217 付\n",
      "218 か\n",
      "219 な\n",
      "220 か\n",
      "221 っ\n",
      "222 た\n",
      "223 。\n",
      "224 こ\n",
      "225 の\n",
      "226 重\n",
      "227 み\n",
      "228 は\n",
      "229 愛\n",
      "230 し\n",
      "231 い\n",
      "232 重\n",
      "233 み\n",
      "234 か\n",
      "235 。\n",
      "236 揺\n",
      "237 れ\n",
      "238 だ\n",
      "239 け\n",
      "240 少\n",
      "241 し\n",
      "242 抑\n",
      "243 え\n",
      "244 て\n",
      "245 ほ\n",
      "246 し\n",
      "247 い\n",
      "248 と\n",
      "249 こ\n",
      "250 ろ\n",
      "251 だ\n",
      "252 が\n",
      "253 、\n",
      "254 今\n"
     ]
    }
   ],
   "source": [
    "for i in range(len(a)):\n",
    "    print('%d %s'%(i,a[i]))"
   ]
  },
  {
   "cell_type": "code",
   "execution_count": 17,
   "id": "a4e1596f",
   "metadata": {},
   "outputs": [
    {
     "data": {
      "text/plain": [
       "'肋'"
      ]
     },
     "execution_count": 17,
     "metadata": {},
     "output_type": "execute_result"
    }
   ],
   "source": []
  },
  {
   "cell_type": "code",
   "execution_count": 22,
   "id": "c851ecf0",
   "metadata": {},
   "outputs": [
    {
     "name": "stdout",
     "output_type": "stream",
     "text": [
      "195\n"
     ]
    }
   ],
   "source": [
    "print(len('肋骨にのめり込む頭と聞くと、痛々しい姿を想像するかもしれない。車の揺れに合わせて、そのしなだれた頭はメリメリとのめり込んでいく。たしかに肋骨はその重みを感じ、強く押されている箇所ははっきり指をさして、ここめり込んでるんだけど！と言いたくなるくらいではある。誰もが思うだろう、やめてくれと。だがここでは違う。その頭は愛する仲間の頭。この重みは少し飲んだ日本酒のせいだ。口に含む程度で止めると言'))"
   ]
  },
  {
   "cell_type": "code",
   "execution_count": 25,
   "id": "cfc86c17",
   "metadata": {},
   "outputs": [],
   "source": [
    "a = '2022.08.15'"
   ]
  },
  {
   "cell_type": "code",
   "execution_count": 26,
   "id": "f2118b20",
   "metadata": {},
   "outputs": [
    {
     "data": {
      "text/plain": [
       "'20220815'"
      ]
     },
     "execution_count": 26,
     "metadata": {},
     "output_type": "execute_result"
    }
   ],
   "source": [
    "a.replace('.','')"
   ]
  },
  {
   "cell_type": "code",
   "execution_count": 29,
   "id": "93f3415d",
   "metadata": {},
   "outputs": [
    {
     "data": {
      "text/plain": [
       "'2022.08.15'"
      ]
     },
     "execution_count": 29,
     "metadata": {},
     "output_type": "execute_result"
    }
   ],
   "source": [
    "a"
   ]
  },
  {
   "cell_type": "code",
   "execution_count": null,
   "id": "7e1c5e29",
   "metadata": {},
   "outputs": [],
   "source": []
  }
 ],
 "metadata": {
  "kernelspec": {
   "display_name": "Python 3 (ipykernel)",
   "language": "python",
   "name": "python3"
  },
  "language_info": {
   "codemirror_mode": {
    "name": "ipython",
    "version": 3
   },
   "file_extension": ".py",
   "mimetype": "text/x-python",
   "name": "python",
   "nbconvert_exporter": "python",
   "pygments_lexer": "ipython3",
   "version": "3.9.7"
  }
 },
 "nbformat": 4,
 "nbformat_minor": 5
}
