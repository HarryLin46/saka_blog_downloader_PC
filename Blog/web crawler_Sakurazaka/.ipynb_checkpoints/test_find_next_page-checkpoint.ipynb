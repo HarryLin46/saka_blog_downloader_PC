{
 "cells": [
  {
   "cell_type": "code",
   "execution_count": 2,
   "id": "1412ab70",
   "metadata": {},
   "outputs": [
    {
     "name": "stdout",
     "output_type": "stream",
     "text": [
      "Requirement already satisfied: beautifulsoup4 in c:\\users\\harry\\anaconda3\\lib\\site-packages (4.10.0)\n",
      "Requirement already satisfied: soupsieve>1.2 in c:\\users\\harry\\anaconda3\\lib\\site-packages (from beautifulsoup4) (2.3.1)\n",
      "Requirement already satisfied: pip in c:\\users\\harry\\anaconda3\\lib\\site-packages (22.2.2)\n"
     ]
    }
   ],
   "source": [
    "!pip install beautifulsoup4\n",
    "!python.exe -m pip install --upgrade pip"
   ]
  },
  {
   "cell_type": "code",
   "execution_count": 3,
   "id": "9f82c6a2",
   "metadata": {},
   "outputs": [],
   "source": [
    "import requests,bs4,os,json,time"
   ]
  },
  {
   "cell_type": "code",
   "execution_count": 4,
   "id": "045154a4",
   "metadata": {},
   "outputs": [
    {
     "name": "stdout",
     "output_type": "stream",
     "text": [
      "網頁下載中\n",
      "網頁下載成功\n"
     ]
    }
   ],
   "source": [
    "url = 'https://sakurazaka46.com/s/s46/diary/blog/list?ima=0705&page=0&ct=50&cd=blog'\n",
    "html = requests.get(url)\n",
    "print('網頁下載中')\n",
    "html.raise_for_status()\n",
    "print('網頁下載成功')"
   ]
  },
  {
   "cell_type": "code",
   "execution_count": 29,
   "id": "28a61dfe",
   "metadata": {},
   "outputs": [],
   "source": [
    "current_objSoup = bs4.BeautifulSoup(html.text,'lxml')"
   ]
  },
  {
   "cell_type": "code",
   "execution_count": 30,
   "id": "520a9d46",
   "metadata": {},
   "outputs": [
    {
     "name": "stdout",
     "output_type": "stream",
     "text": [
      "8\n"
     ]
    }
   ],
   "source": [
    "nextPages = current_objSoup.find_all(lambda tag: tag.name == 'li' and tag.get('class') == ['c-pager__item--count'])\n",
    "print(len(nextPages))"
   ]
  },
  {
   "cell_type": "code",
   "execution_count": 31,
   "id": "0420e109",
   "metadata": {},
   "outputs": [
    {
     "name": "stdout",
     "output_type": "stream",
     "text": [
      "2\n"
     ]
    }
   ],
   "source": [
    "nextpage = nextPages[0].find('a')\n",
    "print(nextpage.text)"
   ]
  },
  {
   "cell_type": "code",
   "execution_count": 32,
   "id": "e0328984",
   "metadata": {},
   "outputs": [
    {
     "ename": "SyntaxError",
     "evalue": "'return' outside function (Temp/ipykernel_3544/332781636.py, line 8)",
     "output_type": "error",
     "traceback": [
      "\u001b[1;36m  File \u001b[1;32m\"C:\\Users\\harry\\AppData\\Local\\Temp/ipykernel_3544/332781636.py\"\u001b[1;36m, line \u001b[1;32m8\u001b[0m\n\u001b[1;33m    return url[:28] + link\u001b[0m\n\u001b[1;37m    ^\u001b[0m\n\u001b[1;31mSyntaxError\u001b[0m\u001b[1;31m:\u001b[0m 'return' outside function\n"
     ]
    }
   ],
   "source": [
    "current_page = 1\n",
    "for i in range(len(nextPages)):\n",
    "    nextpage = nextPages[i].find('a')\n",
    "    time.sleep(0.5)\n",
    "    if nextpage.text == str(current_page+1):\n",
    "        current_page += 1\n",
    "        link = nextpage['href']\n",
    "        return url[:28] + link"
   ]
  },
  {
   "cell_type": "code",
   "execution_count": 8,
   "id": "402233fa",
   "metadata": {},
   "outputs": [],
   "source": [
    "def get_next_page(current_objSoup):\n",
    "    global current_page,download_complete\n",
    "    \n",
    "    box = current_objSoup.find('div', class_ = \"com-pager wid1200\")\n",
    "    nextpage = box.find_all('li')\n",
    "    for i in range(len(nextpage)):\n",
    "        if nextpage[i].text == str(current_page+1):\n",
    "            current_page += 1\n",
    "            targetpage = nextpage[i]\n",
    "            link = targetpage.find('a')['href']\n",
    "            return url[:24] + link\n",
    "    #it is end\n",
    "    download_complete = True\n",
    "    return ''"
   ]
  },
  {
   "cell_type": "code",
   "execution_count": 11,
   "id": "892a3f54",
   "metadata": {},
   "outputs": [],
   "source": [
    "current_page = 1\n",
    "current_url = url\n",
    "download_complete = False"
   ]
  },
  {
   "cell_type": "code",
   "execution_count": 12,
   "id": "92bcdcd7",
   "metadata": {},
   "outputs": [
    {
     "name": "stdout",
     "output_type": "stream",
     "text": [
      "https://sakurazaka46.com/s/s46/diary/blog/list?ima=0705&page=0&ct=50&cd=blog\n",
      "https://sakurazaka46.com/s/s46/diary/blog/list?ima=1551&page=1&ct=50&cd=blog\n",
      "https://sakurazaka46.com/s/s46/diary/blog/list?ima=1552&page=2&ct=50&cd=blog\n",
      "https://sakurazaka46.com/s/s46/diary/blog/list?ima=1552&page=3&ct=50&cd=blog\n",
      "https://sakurazaka46.com/s/s46/diary/blog/list?ima=1553&page=4&ct=50&cd=blog\n"
     ]
    }
   ],
   "source": [
    "for i in range(5):\n",
    "    print(current_url)\n",
    "    html = requests.get(current_url)\n",
    "    current_objSoup = bs4.BeautifulSoup(html.text,'lxml')\n",
    "    current_url = get_next_page(current_objSoup)"
   ]
  },
  {
   "cell_type": "code",
   "execution_count": 18,
   "id": "5dfcd0e8",
   "metadata": {},
   "outputs": [
    {
     "name": "stdout",
     "output_type": "stream",
     "text": [
      "6\n",
      "https://www.nogizaka46.com/s/n46/diary/MEMBER/list?ima=3220&page=2&cd=MEMBER\n"
     ]
    }
   ],
   "source": [
    "html = requests.get(current_url)\n",
    "current_objSoup = bs4.BeautifulSoup(html.text,'lxml')\n",
    "next_url = get_next_page(current_objSoup)\n",
    "print(next_url)"
   ]
  },
  {
   "cell_type": "code",
   "execution_count": 17,
   "id": "ececa4fa",
   "metadata": {},
   "outputs": [
    {
     "data": {
      "text/plain": [
       "2"
      ]
     },
     "execution_count": 17,
     "metadata": {},
     "output_type": "execute_result"
    }
   ],
   "source": [
    "current_page"
   ]
  },
  {
   "cell_type": "code",
   "execution_count": 1,
   "id": "c179b148",
   "metadata": {},
   "outputs": [
    {
     "ename": "ValueError",
     "evalue": "invalid literal for int() with base 10: '←'",
     "output_type": "error",
     "traceback": [
      "\u001b[1;31m---------------------------------------------------------------------------\u001b[0m",
      "\u001b[1;31mValueError\u001b[0m                                Traceback (most recent call last)",
      "\u001b[1;32m~\\AppData\\Local\\Temp/ipykernel_3600/3114155660.py\u001b[0m in \u001b[0;36m<module>\u001b[1;34m\u001b[0m\n\u001b[1;32m----> 1\u001b[1;33m \u001b[0mint\u001b[0m\u001b[1;33m(\u001b[0m\u001b[1;34m'←'\u001b[0m\u001b[1;33m)\u001b[0m\u001b[1;33m\u001b[0m\u001b[1;33m\u001b[0m\u001b[0m\n\u001b[0m",
      "\u001b[1;31mValueError\u001b[0m: invalid literal for int() with base 10: '←'"
     ]
    }
   ],
   "source": [
    "int('←')"
   ]
  },
  {
   "cell_type": "code",
   "execution_count": null,
   "id": "f33ed5d0",
   "metadata": {},
   "outputs": [],
   "source": []
  }
 ],
 "metadata": {
  "kernelspec": {
   "display_name": "Python 3 (ipykernel)",
   "language": "python",
   "name": "python3"
  },
  "language_info": {
   "codemirror_mode": {
    "name": "ipython",
    "version": 3
   },
   "file_extension": ".py",
   "mimetype": "text/x-python",
   "name": "python",
   "nbconvert_exporter": "python",
   "pygments_lexer": "ipython3",
   "version": "3.9.7"
  }
 },
 "nbformat": 4,
 "nbformat_minor": 5
}
