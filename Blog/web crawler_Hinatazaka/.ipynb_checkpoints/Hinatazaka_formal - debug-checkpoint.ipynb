{
 "cells": [
  {
   "cell_type": "code",
   "execution_count": 1,
   "id": "f3b82705",
   "metadata": {},
   "outputs": [
    {
     "name": "stdout",
     "output_type": "stream",
     "text": [
      "Requirement already satisfied: beautifulsoup4 in c:\\users\\harry\\anaconda3\\lib\\site-packages (4.10.0)\n",
      "Requirement already satisfied: soupsieve>1.2 in c:\\users\\harry\\anaconda3\\lib\\site-packages (from beautifulsoup4) (2.3.1)\n",
      "Requirement already satisfied: pip in c:\\users\\harry\\anaconda3\\lib\\site-packages (22.2.2)\n"
     ]
    }
   ],
   "source": [
    "!pip install beautifulsoup4\n",
    "!python.exe -m pip install --upgrade pip"
   ]
  },
  {
   "cell_type": "code",
   "execution_count": 2,
   "id": "3cb5576c",
   "metadata": {},
   "outputs": [],
   "source": [
    "import requests,bs4,os,json,time"
   ]
  },
  {
   "cell_type": "markdown",
   "id": "33dabd5f",
   "metadata": {},
   "source": [
    "## download html"
   ]
  },
  {
   "cell_type": "code",
   "execution_count": 3,
   "id": "ae0154bf",
   "metadata": {},
   "outputs": [],
   "source": [
    "url = 'https://www.hinatazaka46.com/s/official/diary/member/list?ima=0000'\n",
    "# html = requests.get(url)\n",
    "# print('網頁下載中')\n",
    "# html.raise_for_status()\n",
    "# print('網頁下載成功')"
   ]
  },
  {
   "cell_type": "markdown",
   "id": "3455ce72",
   "metadata": {},
   "source": [
    "## create Nogizaka46 directory"
   ]
  },
  {
   "cell_type": "code",
   "execution_count": 114,
   "id": "58682855",
   "metadata": {},
   "outputs": [],
   "source": [
    "deskDir = 'Hinatazaka46'\n",
    "if os.path.exists(deskDir) == False:\n",
    "    os.mkdir(deskDir)"
   ]
  },
  {
   "cell_type": "code",
   "execution_count": 115,
   "id": "74265996",
   "metadata": {},
   "outputs": [
    {
     "name": "stdout",
     "output_type": "stream",
     "text": [
      "['秋元 真夏', '伊藤 理々杏', '岩本 蓮加', '梅澤 美波', '遠藤 さくら', '賀喜 遥香', '掛橋 沙耶香', '金川 紗耶', '北川 悠理', '久保 史緒里', '黒見明香', '齋藤 飛鳥', '阪口 珠美', '佐藤 楓', '佐藤璃果', '柴田 柚菜', '鈴木 絢音', '清宮 レイ', '田村 真佑', '筒井 あやめ', '中村 麗乃', '早川 聖来', '林瑠奈', '樋口 日奈', '松尾美佑', '向井 葉月', '矢久保 美緒', '山崎 怜奈', '山下 美月', '弓木奈於', '吉田 綾乃クリスティー', '与田 祐希', '和田 まあや', '5期生リレー']\n"
     ]
    }
   ],
   "source": []
  },
  {
   "cell_type": "code",
   "execution_count": 116,
   "id": "c242726b",
   "metadata": {},
   "outputs": [],
   "source": [
    "# for i in range(len(member_list)):\n",
    "#     folderpath = './Nogizaka46' + '/' + member_list[i]\n",
    "#     if os.path.isdir(folderpath) == False:\n",
    "#         path = os.path.join('./Nogizaka46', member_list[i]) \n",
    "#         os.mkdir(path)"
   ]
  },
  {
   "cell_type": "markdown",
   "id": "af6b7705",
   "metadata": {},
   "source": [
    "## find blog links on current page"
   ]
  },
  {
   "cell_type": "code",
   "execution_count": 117,
   "id": "f3f961e7",
   "metadata": {},
   "outputs": [],
   "source": [
    "# main_objSoup = bs4.BeautifulSoup(html.text,'lxml')\n",
    "# blogData = main_objSoup.find_all('a',class_='bl--card js-pos a--op hv--thumb')"
   ]
  },
  {
   "cell_type": "code",
   "execution_count": 118,
   "id": "904d886e",
   "metadata": {},
   "outputs": [],
   "source": [
    "# print(len(blogData))"
   ]
  },
  {
   "cell_type": "code",
   "execution_count": 119,
   "id": "568b9dfc",
   "metadata": {},
   "outputs": [],
   "source": [
    "# for i in range(len(bloglinks)):\n",
    "#     print(bloglinks[i]['href'])"
   ]
  },
  {
   "cell_type": "code",
   "execution_count": 120,
   "id": "60a12327",
   "metadata": {},
   "outputs": [],
   "source": [
    "# print(url[0:26]+bloglinks[0]['href'])"
   ]
  },
  {
   "cell_type": "code",
   "execution_count": 121,
   "id": "589fb6af",
   "metadata": {},
   "outputs": [],
   "source": [
    "# print(blogData[1])"
   ]
  },
  {
   "cell_type": "code",
   "execution_count": 9,
   "id": "403db7a0",
   "metadata": {},
   "outputs": [],
   "source": [
    "def get_next_page(current_objSoup):\n",
    "    global current_page,download_complete\n",
    "    nextPages = current_objSoup.find_all('li', class_ = 'c-pager__item--count')\n",
    "    \n",
    "    for i in range(len(nextPages)):\n",
    "        nextpage = nextPages[i].find('a')\n",
    "        time.sleep(0.5)\n",
    "        if  nextpage is not None and nextpage.text == str(current_page+1):\n",
    "            current_page += 1\n",
    "            link = nextpage['href']\n",
    "            return url[:28] + link\n",
    "        else:\n",
    "            continue\n",
    "    #it is end\n",
    "    download_complete = True\n",
    "    return ''"
   ]
  },
  {
   "cell_type": "code",
   "execution_count": 123,
   "id": "b13e90ed",
   "metadata": {
    "scrolled": true
   },
   "outputs": [],
   "source": [
    "def download_pictures(blog_url,blog_index):\n",
    "    global current_new,download_complete,current_page\n",
    "    #url = https://www.nogizaka46.com/s/n46/diary/detail/100577?ima=2936&cd=MEMBER\n",
    "    html = requests.get(blog_url)\n",
    "    time.sleep(1)\n",
    "    objSoup = bs4.BeautifulSoup(html.text,'lxml')\n",
    "    \n",
    "    imgTag = objSoup.select('img')\n",
    "#     print(len(imgTag))\n",
    "    author_member = objSoup.find('p',class_ = 'bd--prof__name f--head').text\n",
    "    blog_title = objSoup.find('h1', class_ = 'bd--hd__ttl f--head a--tx js-tdi').text\n",
    "    dateTime = objSoup.find('p', class_ = \"bd--hd__date a--tx js-tdi\").text\n",
    "    date = dateTime[:10]\n",
    "    date = date.replace('.','')\n",
    "    \n",
    "    \n",
    "    data = [dateTime,author_member,blog_title]\n",
    "    if data == current_new: #we can stop here\n",
    "        download_complete = True\n",
    "    else:\n",
    "        #blog_title may not a good directory name\n",
    "        blog_title = blog_title[:150]\n",
    "        special_char = r'/\\:*?\"<>|'\n",
    "        for i in special_char:\n",
    "            blog_title = blog_title.replace(i,'')\n",
    "\n",
    "        dir_path_member = './Nogizaka46/' + author_member\n",
    "        dir_path = './Nogizaka46/' + author_member + '/' + date + ' ' + blog_title\n",
    "        \n",
    "        #the space at the end of blog_title should be remove\n",
    "        dir_path = dir_path.rstrip()\n",
    "        \n",
    "        if os.path.exists(dir_path_member) == False:\n",
    "            os.mkdir(dir_path_member)\n",
    "        if os.path.exists(dir_path) == False:\n",
    "            os.mkdir(dir_path)\n",
    "            if len(imgTag) > 0 :\n",
    "                for i in range(len(imgTag)):\n",
    "                    imgUrl = imgTag[i].get('src')\n",
    "#                     if not imgUrl is None: #we may catch something we don't want(no 'src') \n",
    "# #                         print(imgUrl)\n",
    "# #                         print(os.path.basename(imgUrl))\n",
    "#                         finUrl = url[:26] + imgUrl\n",
    "                            \n",
    "#                         picture = requests.get(finUrl)\n",
    "#                         picture.raise_for_status()\n",
    "#         #                 print('%s 圖片下載成功' %finUrl)\n",
    "# #                         print(os.path.join(dir_path,os.path.basename(imgUrl)))\n",
    "#                         pictFile = open(os.path.join(dir_path,os.path.basename(imgUrl)),'wb')\n",
    "#                         for diskStorage in picture.iter_content(1024):\n",
    "#                             pictFile.write(diskStorage)\n",
    "#                         pictFile.close()\n",
    "                    try:\n",
    "                        is_effective_url = (not imgUrl is None) and ((imgUrl[-4:] in ['.jpg','.tif']) or (imgUrl[-5:] in ['.jpeg']))\n",
    "                        if is_effective_url: #we may catch something we don't want(no 'src') \n",
    "                            finUrl = url[:26] + imgUrl\n",
    "                            \n",
    "                            picture = requests.get(finUrl)\n",
    "                            picture.raise_for_status()\n",
    "            #                 print('%s 圖片下載成功' %finUrl)\n",
    "\n",
    "                            pictFile = open(os.path.join(dir_path,os.path.basename(imgUrl)),'wb')\n",
    "                            for diskStorage in picture.iter_content(1024):\n",
    "                                pictFile.write(diskStorage)\n",
    "                            pictFile.close()\n",
    "                    except:\n",
    "                        print(current_page,blog_index+1,'download_pictures出錯! 照片可能被鎖了',author_member,blog_title)\n",
    "        else:\n",
    "            print('看到重複的部落格了')\n",
    "            \n"
   ]
  },
  {
   "cell_type": "code",
   "execution_count": 124,
   "id": "6e76026f",
   "metadata": {},
   "outputs": [],
   "source": [
    "def update_current_new(current_new_url):\n",
    "    html = requests.get(current_new_url)\n",
    "    time.sleep(1)\n",
    "    objSoup = bs4.BeautifulSoup(html.text,'lxml')\n",
    "    \n",
    "    author_member = objSoup.find('p',class_ = 'bd--prof__name f--head').text\n",
    "    blog_title = objSoup.find('h1', class_ = 'bd--hd__ttl f--head a--tx js-tdi').text\n",
    "    dateTime = objSoup.find('p', class_ = \"bd--hd__date a--tx js-tdi\").text\n",
    "    \n",
    "    current_new_data = [dateTime,author_member,blog_title]\n",
    "    \n",
    "    fn = 'current_new.json'\n",
    "    with open(fn,'w',encoding='utf-8') as obj:\n",
    "        json.dump(current_new_data,obj,ensure_ascii=False)"
   ]
  },
  {
   "cell_type": "code",
   "execution_count": 125,
   "id": "12a734a3",
   "metadata": {},
   "outputs": [],
   "source": [
    "def download_blogs(current_objSoup):\n",
    "    global current_new,current_page,download_complete\n",
    "    blogData = current_objSoup.find_all('a',class_='bl--card js-pos a--op hv--thumb')\n",
    "    \n",
    "    for i in range(len(blogData)):\n",
    "        link = blogData[i]['href']\n",
    "        blog_url = url[:26] + link\n",
    "        \n",
    "        if not download_complete:\n",
    "            download_pictures(blog_url,i)\n",
    "        \n",
    "        if current_page == 1 and i == 0: #always update first\n",
    "            update_current_new(blog_url)"
   ]
  },
  {
   "cell_type": "markdown",
   "id": "79599186",
   "metadata": {},
   "source": [
    "## set some parameters"
   ]
  },
  {
   "cell_type": "code",
   "execution_count": 126,
   "id": "ed0af820",
   "metadata": {},
   "outputs": [],
   "source": [
    "current_page = 1\n",
    "current_url = url\n",
    "\n",
    "download_complete = False"
   ]
  },
  {
   "cell_type": "code",
   "execution_count": 127,
   "id": "cf963e3d",
   "metadata": {},
   "outputs": [],
   "source": [
    "#for debug\n",
    "# current_page_real = 75\n",
    "# current_page = 1\n",
    "# current_url = url\n",
    "\n",
    "# for i in range(50):\n",
    "# #     print(i)\n",
    "#     html = requests.get(current_url)\n",
    "#     current_objSoup = bs4.BeautifulSoup(html.text,'lxml')\n",
    "#     current_url = get_next_page(current_objSoup)\n",
    "# print(current_url)"
   ]
  },
  {
   "cell_type": "markdown",
   "id": "c7261c1a",
   "metadata": {},
   "source": [
    "## get current new"
   ]
  },
  {
   "cell_type": "code",
   "execution_count": 128,
   "id": "829fa4f3",
   "metadata": {},
   "outputs": [],
   "source": [
    "fn = 'current_new.json'\n",
    "\n",
    "try:\n",
    "    with open(fn,'r',encoding='utf-8') as fnobj:\n",
    "        current_new = json.load(fnobj)\n",
    "\n",
    "except Exception: #the 1st run of this code\n",
    "#     html = requests.get(current_url)\n",
    "#     current_objSoup = bs4.BeautifulSoup(html.text,'lxml')\n",
    "    \n",
    "#     blogData = current_objSoup.find_all('a',class_='bl--card js-pos a--op hv--thumb')\n",
    "    \n",
    "#     link = blogData[0]['href']\n",
    "#     blog_url = url[:26] + link\n",
    "    \n",
    "#     update_current_new(blog_url)\n",
    "    current_new = ''"
   ]
  },
  {
   "cell_type": "markdown",
   "id": "abf2f572",
   "metadata": {},
   "source": [
    "## main loop"
   ]
  },
  {
   "cell_type": "code",
   "execution_count": 129,
   "id": "9c3544d9",
   "metadata": {},
   "outputs": [],
   "source": [
    "# while not download_complete:\n",
    "#     print(current_page)\n",
    "#     html = requests.get(current_url)\n",
    "#     current_objSoup = bs4.BeautifulSoup(html.text,'lxml')\n",
    "#     try:\n",
    "#         download_blogs(current_objSoup)\n",
    "#     except FileExistsError as e:\n",
    "#         print('檔案已存在! 載到重複的部落格')\n",
    "#         break\n",
    "#     except FileNotFoundError as e:\n",
    "#         print('檔案找不到! 可能部落格名稱太長或路徑有錯')\n",
    "#         break\n",
    "#     except NotADirectoryError as e:\n",
    "#         print('目錄名稱無效! 可能資料夾命名不合法')\n",
    "#         break\n",
    "#     current_url = get_next_page(current_objSoup)"
   ]
  },
  {
   "cell_type": "markdown",
   "id": "14adf3c5",
   "metadata": {},
   "source": [
    "## debug for certain blog"
   ]
  },
  {
   "cell_type": "code",
   "execution_count": 4,
   "id": "4666e169",
   "metadata": {},
   "outputs": [],
   "source": [
    "from urllib.error import HTTPError"
   ]
  },
  {
   "cell_type": "code",
   "execution_count": 84,
   "id": "2caf16b7",
   "metadata": {},
   "outputs": [],
   "source": [
    "def strQ2B(ustring):\n",
    "    rstring = \"\"\n",
    "    for uchar in ustring:\n",
    "        inside_code = ord(uchar)\n",
    "        if inside_code == 12288:                            # 全形空格直接轉換\n",
    "            inside_code = 32\n",
    "        elif 65281 <= inside_code <= 65374:   \t\t\t\t# 全形字元（除空格）根據關係轉化\n",
    "            inside_code -= 65248\n",
    "        rstring += chr(inside_code)\n",
    "    return rstring"
   ]
  },
  {
   "cell_type": "code",
   "execution_count": 98,
   "id": "ac0cb3ea",
   "metadata": {},
   "outputs": [
    {
     "ename": "IndentationError",
     "evalue": "unexpected indent (Temp/ipykernel_10216/4190353184.py, line 63)",
     "output_type": "error",
     "traceback": [
      "\u001b[1;36m  File \u001b[1;32m\"C:\\Users\\harry\\AppData\\Local\\Temp/ipykernel_10216/4190353184.py\"\u001b[1;36m, line \u001b[1;32m63\u001b[0m\n\u001b[1;33m    is_effective_url = (not imgUrl is None) and ((imgUrl[-4:] in ['.jpg','.tif','.png']) or (imgUrl[-5:] in ['.jpeg']))\u001b[0m\n\u001b[1;37m    ^\u001b[0m\n\u001b[1;31mIndentationError\u001b[0m\u001b[1;31m:\u001b[0m unexpected indent\n"
     ]
    }
   ],
   "source": [
    "def download_pictures(blog_url):\n",
    "    global current_new,download_complete,current_page\n",
    "    #url = https://www.nogizaka46.com/s/n46/diary/detail/100577?ima=2936&cd=MEMBER\n",
    "    html = requests.get(blog_url)\n",
    "    time.sleep(1)\n",
    "    objSoup = bs4.BeautifulSoup(html.text,'lxml')\n",
    "    \n",
    "    blog_tags = objSoup.find_all('div', class_ = \"c-blog-article__text\")\n",
    "#     print(len(imgTag))\n",
    "\n",
    "    author_members_raw = objSoup.find_all('div',class_ = 'c-blog-article__name')\n",
    "    author_members = []\n",
    "    for i in author_members_raw:\n",
    "        author_members.append(i.text.strip())\n",
    "        \n",
    "    blog_title_raw = objSoup.find_all('div', class_ = \"c-blog-article__title\")\n",
    "    blog_titles = []\n",
    "    for i in blog_title_raw:\n",
    "        blog_titles.append(i.text.strip())\n",
    "        \n",
    "    dateTime_raw = objSoup.find_all('div', class_ = \"c-blog-article__date\")\n",
    "    dates = []\n",
    "    for i in dateTime_raw:\n",
    "        dateTime = i.text.strip() #get '2022.8.15 18:30'\n",
    "        dateTime = dateTime.split('.')\n",
    "        year,month,day = dateTime[0],dateTime[1].zfill(2),dateTime[2][:-6].zfill(2)\n",
    "\n",
    "        dates.append(year+month+day)\n",
    "    \n",
    "    #run for 20 times in 1 page\n",
    "    for k in range(len(blog_tags)):\n",
    "        imgTag = blog_tags[k].find_all('img')\n",
    "        author_member = author_members[k]\n",
    "        blog_title = blog_titles[k]\n",
    "        date = dates[k]\n",
    "        \n",
    "    \n",
    "        data = [dateTime_raw[k].text.strip(),author_member,blog_title]\n",
    "        if data == current_new: #we can stop here\n",
    "            download_complete = True\n",
    "        else:\n",
    "            #blog_title may not a good directory name\n",
    "            blog_title = blog_title[:150]\n",
    "            special_char = r'/\\:*?\"<>|'\n",
    "            for i in special_char:\n",
    "                blog_title = blog_title.replace(i,'')\n",
    "\n",
    "            dir_path_member = './Hinatazaka46/' + author_member\n",
    "            dir_path = './Hinatazaka46/' + author_member + '/' + date + ' ' + blog_title\n",
    "\n",
    "            #the space at the end of blog_title should be remove\n",
    "#             dir_path = dir_path.rstrip(' .')\n",
    "\n",
    "            if os.path.exists(dir_path_member) == False:\n",
    "                os.mkdir(dir_path_member)\n",
    "            if os.path.exists(dir_path) == False:\n",
    "                os.mkdir(dir_path)\n",
    "                if len(imgTag) > 0 :\n",
    "                    for i in range(len(imgTag)):\n",
    "                        imgUrl = imgTag[i].get('src')\n",
    "                        \n",
    "                        is_effective_url = (not imgUrl is None) and ((imgUrl[-4:] in ['.jpg','.tif','.png']) or (imgUrl[-5:] in ['.jpeg']))\n",
    "                        if is_effective_url: #we may catch something we don't want(no 'src') \n",
    "\n",
    "                            picture = requests.get(imgUrl)\n",
    "                            time.sleep(0.5)\n",
    "                            picture.raise_for_status()\n",
    "            #                 print('%s 圖片下載成功' %finUrl)\n",
    "\n",
    "                            pictFile = open(os.path.join(dir_path,str(i).zfill(2) + (imgUrl[-4:] if imgUrl[-4:] in ['.jpg','.tif'] else imgUrl[-5:])),'wb')\n",
    "                            for diskStorage in picture.iter_content(1024*1024):\n",
    "                                pictFile.write(diskStorage)\n",
    "                            pictFile.close()\n",
    "                        \n",
    "                print('看到重複的部落格了')\n"
   ]
  },
  {
   "cell_type": "code",
   "execution_count": 93,
   "id": "ec087121",
   "metadata": {},
   "outputs": [
    {
     "name": "stdout",
     "output_type": "stream",
     "text": [
      "https://www.hinatazaka46.com/s/official/diary/member/list?ima=0000&page=48&cd=member\n"
     ]
    }
   ],
   "source": [
    "#for debug\n",
    "current_page = 1\n",
    "current_url = url\n",
    "\n",
    "for i in range(48):\n",
    "#     print(i)\n",
    "    html = requests.get(current_url)\n",
    "    current_objSoup = bs4.BeautifulSoup(html.text,'lxml')\n",
    "    current_url = get_next_page(current_objSoup)\n",
    "print(current_url)"
   ]
  },
  {
   "cell_type": "code",
   "execution_count": 14,
   "id": "78241391",
   "metadata": {},
   "outputs": [],
   "source": [
    "current_new = ''"
   ]
  },
  {
   "cell_type": "code",
   "execution_count": 97,
   "id": "769492e9",
   "metadata": {
    "scrolled": false
   },
   "outputs": [
    {
     "name": "stdout",
     "output_type": "stream",
     "text": [
      "./Hinatazaka46/東村 芽依/20220206 🍩\\00.jpg\n",
      "./Hinatazaka46/東村 芽依/20220206 🍩\\01.jpg\n",
      "./Hinatazaka46/東村 芽依/20220206 🍩\\02.jpg\n",
      "./Hinatazaka46/東村 芽依/20220206 🍩\\03.jpg\n",
      "./Hinatazaka46/渡邉 美穂/20220206 新学期は絶対に一番端の後ろの席だったよ。だってワタナベだもん。\\00.jpg\n",
      "./Hinatazaka46/渡邉 美穂/20220206 新学期は絶対に一番端の後ろの席だったよ。だってワタナベだもん。\\01.jpg\n",
      "./Hinatazaka46/渡邉 美穂/20220206 新学期は絶対に一番端の後ろの席だったよ。だってワタナベだもん。\\02.jpg\n",
      "./Hinatazaka46/影山 優佳/20220206 もはやねむくないよね\\00.jpg\n",
      "./Hinatazaka46/影山 優佳/20220206 もはやねむくないよね\\01.jpg\n",
      "./Hinatazaka46/影山 優佳/20220206 もはやねむくないよね\\02.jpg\n",
      "./Hinatazaka46/高本 彩花/20220206 ショコラ\\00.jpg\n",
      "./Hinatazaka46/高本 彩花/20220206 ショコラ\\01.jpg\n",
      "./Hinatazaka46/高本 彩花/20220206 ショコラ\\02.jpg\n",
      "./Hinatazaka46/高本 彩花/20220206 ショコラ\\03.jpg\n",
      "./Hinatazaka46/高本 彩花/20220206 ショコラ\\04.jpg\n",
      "./Hinatazaka46/丹生 明里/20220205 ~ナチョス~\\00.jpg\n",
      "./Hinatazaka46/丹生 明里/20220205 ~ナチョス~\\01.jpg\n",
      "./Hinatazaka46/影山 優佳/20220205 しつもんにぱっとこたえてたのしいね\\00.jpg\n",
      "./Hinatazaka46/影山 優佳/20220205 しつもんにぱっとこたえてたのしいね\\01.jpg\n",
      "./Hinatazaka46/影山 優佳/20220205 しつもんにぱっとこたえてたのしいね\\02.jpg\n",
      "./Hinatazaka46/影山 優佳/20220205 しつもんにぱっとこたえてたのしいね\\03.jpg\n",
      "./Hinatazaka46/影山 優佳/20220205 しつもんにぱっとこたえてたのしいね\\04.jpg\n",
      "./Hinatazaka46/松田 好花/20220205 やっほっスンドゥブチゲ\\00.jpg\n",
      "./Hinatazaka46/松田 好花/20220205 やっほっスンドゥブチゲ\\01.jpg\n",
      "./Hinatazaka46/松田 好花/20220205 やっほっスンドゥブチゲ\\02.jpg\n",
      "./Hinatazaka46/佐々木 美玲/20220205 ハレハレ〜☀️\\00.jpg\n",
      "./Hinatazaka46/佐々木 美玲/20220205 ハレハレ〜☀️\\01.jpg\n",
      "./Hinatazaka46/佐々木 美玲/20220205 ハレハレ〜☀️\\02.jpg\n",
      "./Hinatazaka46/高本 彩花/20220204 あるある\\00.jpg\n",
      "./Hinatazaka46/高本 彩花/20220204 あるある\\01.jpg\n",
      "./Hinatazaka46/高本 彩花/20220204 あるある\\02.jpg\n",
      "./Hinatazaka46/高本 彩花/20220204 あるある\\03.jpg\n",
      "./Hinatazaka46/富田 鈴花/20220204 今日はどんな話？🧟‍♀️\\00.jpg\n",
      "./Hinatazaka46/富田 鈴花/20220204 今日はどんな話？🧟‍♀️\\01.jpg\n",
      "./Hinatazaka46/富田 鈴花/20220204 今日はどんな話？🧟‍♀️\\02.jpg\n",
      "./Hinatazaka46/富田 鈴花/20220204 今日はどんな話？🧟‍♀️\\03.jpg\n",
      "./Hinatazaka46/富田 鈴花/20220204 今日はどんな話？🧟‍♀️\\04.jpg\n",
      "./Hinatazaka46/富田 鈴花/20220204 今日はどんな話？🧟‍♀️\\05.jpg\n",
      "./Hinatazaka46/森本 茉莉/20220204 勢いというスキルを身につけました\\00.jpg\n",
      "./Hinatazaka46/森本 茉莉/20220204 勢いというスキルを身につけました\\01.jpg\n",
      "./Hinatazaka46/森本 茉莉/20220204 勢いというスキルを身につけました\\02.jpg\n",
      "./Hinatazaka46/森本 茉莉/20220204 勢いというスキルを身につけました\\03.jpg\n",
      "./Hinatazaka46/森本 茉莉/20220204 勢いというスキルを身につけました\\04.jpg\n",
      "./Hinatazaka46/佐々木 美玲/20220204 1週間の疲れを🌟\\00.jpg\n",
      "./Hinatazaka46/高瀬 愛奈/20220204 チョコ💝\\00.jpg\n",
      "./Hinatazaka46/高瀬 愛奈/20220204 チョコ💝\\01.jpg\n",
      "./Hinatazaka46/高瀬 愛奈/20220204 チョコ💝\\02.jpg\n",
      "./Hinatazaka46/高瀬 愛奈/20220204 チョコ💝\\03.jpg\n",
      "./Hinatazaka46/渡邉 美穂/20220204 ちょっと待てぃ！！\\03.jpg\n",
      "./Hinatazaka46/渡邉 美穂/20220204 ちょっと待てぃ！！\\04.jpg\n",
      "./Hinatazaka46/ポカ/20220203 てんし\\00.png\n",
      "./Hinatazaka46/ポカ/20220203 てんし\\01.png\n",
      "./Hinatazaka46/ポカ/20220203 てんし\\02.png\n",
      "./Hinatazaka46/ポカ/20220203 てんし\\03.png\n",
      "./Hinatazaka46/加藤 史帆/20220203 #shihogram\\00.jpg\n",
      "./Hinatazaka46/加藤 史帆/20220203 #shihogram\\01.jpg\n",
      "./Hinatazaka46/加藤 史帆/20220203 #shihogram\\02.jpg\n",
      "./Hinatazaka46/加藤 史帆/20220203 #shihogram\\03.jpg\n",
      "./Hinatazaka46/東村 芽依/20220203 🫑\\00.jpg\n",
      "./Hinatazaka46/東村 芽依/20220203 🫑\\01.jpg\n",
      "./Hinatazaka46/東村 芽依/20220203 🫑\\02.jpg\n",
      "./Hinatazaka46/東村 芽依/20220203 🫑\\03.jpg\n",
      "./Hinatazaka46/髙橋 未来虹/20220203 沼ハマ\\00.jpg\n",
      "./Hinatazaka46/髙橋 未来虹/20220203 沼ハマ\\01.jpg\n",
      "./Hinatazaka46/松田 好花/20220203 鬼は外〜福は内〜👹\\00.jpg\n",
      "./Hinatazaka46/松田 好花/20220203 鬼は外〜福は内〜👹\\01.jpg\n",
      "./Hinatazaka46/松田 好花/20220203 鬼は外〜福は内〜👹\\02.jpg\n",
      "./Hinatazaka46/影山 優佳/20220203 ぜいかん\\00.jpg\n",
      "./Hinatazaka46/影山 優佳/20220203 ぜいかん\\01.jpg\n",
      "./Hinatazaka46/影山 優佳/20220203 ぜいかん\\02.jpg\n"
     ]
    }
   ],
   "source": [
    "urll = 'https://www.hinatazaka46.com/s/official/diary/member/list?ima=0000'\n",
    "path = ''\n",
    "download_pictures(urll)\n"
   ]
  },
  {
   "cell_type": "code",
   "execution_count": 134,
   "id": "d4ca25a1",
   "metadata": {},
   "outputs": [
    {
     "name": "stdout",
     "output_type": "stream",
     "text": [
      "./Nogizaka46/黒見明香/20210803 泣いてしまった２次審査...\\0000.jpeg\n"
     ]
    }
   ],
   "source": [
    "print(os.path.join('./Nogizaka46/黒見明香/20210803 泣いてしまった２次審査...','0000.jpeg'))"
   ]
  },
  {
   "cell_type": "code",
   "execution_count": 135,
   "id": "890615ae",
   "metadata": {},
   "outputs": [
    {
     "data": {
      "text/plain": [
       "'https://www.nogizaka46.com/s/n46/diary/MEMBER/list?ima=1651&page=779&cd=MEMBER'"
      ]
     },
     "execution_count": 135,
     "metadata": {},
     "output_type": "execute_result"
    }
   ],
   "source": [
    "current_url"
   ]
  },
  {
   "cell_type": "code",
   "execution_count": 136,
   "id": "48dde3b8",
   "metadata": {},
   "outputs": [
    {
     "data": {
      "text/plain": [
       "'https://www.nogizaka46.com/s/n46/diary/MEMBER/list?ima=0107&ct=48006/s/n46/diary/detail/100509?ima=2301&cd=MEMBER'"
      ]
     },
     "execution_count": 136,
     "metadata": {},
     "output_type": "execute_result"
    }
   ],
   "source": [
    "url"
   ]
  },
  {
   "cell_type": "code",
   "execution_count": 137,
   "id": "7563f96d",
   "metadata": {},
   "outputs": [],
   "source": [
    "a = 'abc.jpg'"
   ]
  },
  {
   "cell_type": "code",
   "execution_count": 138,
   "id": "9854e97b",
   "metadata": {},
   "outputs": [
    {
     "data": {
      "text/plain": [
       "False"
      ]
     },
     "execution_count": 138,
     "metadata": {},
     "output_type": "execute_result"
    }
   ],
   "source": [
    "a[-5:] in ['.jpg','.jpeg']"
   ]
  },
  {
   "cell_type": "code",
   "execution_count": 139,
   "id": "f9d0b7cd",
   "metadata": {},
   "outputs": [
    {
     "data": {
      "text/plain": [
       "''"
      ]
     },
     "execution_count": 139,
     "metadata": {},
     "output_type": "execute_result"
    }
   ],
   "source": [
    "a = ''\n",
    "a[-5:]"
   ]
  },
  {
   "cell_type": "code",
   "execution_count": 140,
   "id": "00cab11f",
   "metadata": {},
   "outputs": [
    {
     "data": {
      "text/plain": [
       "'abc'"
      ]
     },
     "execution_count": 140,
     "metadata": {},
     "output_type": "execute_result"
    }
   ],
   "source": [
    "a = 'abcde ee'\n",
    "a.rstrip('ed ')"
   ]
  },
  {
   "cell_type": "code",
   "execution_count": 59,
   "id": "0c924419",
   "metadata": {},
   "outputs": [
    {
     "ename": "SyntaxError",
     "evalue": "EOL while scanning string literal (Temp/ipykernel_10216/4071782509.py, line 1)",
     "output_type": "error",
     "traceback": [
      "\u001b[1;36m  File \u001b[1;32m\"C:\\Users\\harry\\AppData\\Local\\Temp/ipykernel_10216/4071782509.py\"\u001b[1;36m, line \u001b[1;32m1\u001b[0m\n\u001b[1;33m    path.replace('\\\\',\"\\\")\u001b[0m\n\u001b[1;37m                          ^\u001b[0m\n\u001b[1;31mSyntaxError\u001b[0m\u001b[1;31m:\u001b[0m EOL while scanning string literal\n"
     ]
    }
   ],
   "source": [
    "path.replace('\\\\',\"\\\")"
   ]
  },
  {
   "cell_type": "code",
   "execution_count": 46,
   "id": "c6897770",
   "metadata": {},
   "outputs": [
    {
     "name": "stdout",
     "output_type": "stream",
     "text": [
      "\\\\\n"
     ]
    }
   ],
   "source": [
    "print('\\\\\\\\')"
   ]
  },
  {
   "cell_type": "code",
   "execution_count": null,
   "id": "f257cf7b",
   "metadata": {},
   "outputs": [],
   "source": []
  }
 ],
 "metadata": {
  "kernelspec": {
   "display_name": "Python 3 (ipykernel)",
   "language": "python",
   "name": "python3"
  },
  "language_info": {
   "codemirror_mode": {
    "name": "ipython",
    "version": 3
   },
   "file_extension": ".py",
   "mimetype": "text/x-python",
   "name": "python",
   "nbconvert_exporter": "python",
   "pygments_lexer": "ipython3",
   "version": "3.9.7"
  }
 },
 "nbformat": 4,
 "nbformat_minor": 5
}
