{
 "cells": [
  {
   "cell_type": "code",
   "execution_count": 2,
   "id": "1412ab70",
   "metadata": {},
   "outputs": [
    {
     "name": "stdout",
     "output_type": "stream",
     "text": [
      "Requirement already satisfied: beautifulsoup4 in c:\\users\\harry\\anaconda3\\lib\\site-packages (4.10.0)\n",
      "Requirement already satisfied: soupsieve>1.2 in c:\\users\\harry\\anaconda3\\lib\\site-packages (from beautifulsoup4) (2.3.1)\n",
      "Requirement already satisfied: pip in c:\\users\\harry\\anaconda3\\lib\\site-packages (22.2.2)\n"
     ]
    }
   ],
   "source": [
    "!pip install beautifulsoup4\n",
    "!python.exe -m pip install --upgrade pip"
   ]
  },
  {
   "cell_type": "code",
   "execution_count": 3,
   "id": "9f82c6a2",
   "metadata": {},
   "outputs": [],
   "source": [
    "import requests,bs4,os,json"
   ]
  },
  {
   "cell_type": "code",
   "execution_count": 4,
   "id": "045154a4",
   "metadata": {},
   "outputs": [
    {
     "name": "stdout",
     "output_type": "stream",
     "text": [
      "網頁下載中\n",
      "網頁下載成功\n"
     ]
    }
   ],
   "source": [
    "url = 'https://www.nogizaka46.com/s/n46/diary/MEMBER/list?ima=0107&ct=48006/s/n46/diary/detail/100509?ima=2301&cd=MEMBER'\n",
    "html = requests.get(url)\n",
    "print('網頁下載中')\n",
    "html.raise_for_status()\n",
    "print('網頁下載成功')"
   ]
  },
  {
   "cell_type": "code",
   "execution_count": 5,
   "id": "28a61dfe",
   "metadata": {},
   "outputs": [],
   "source": [
    "main_objSoup = bs4.BeautifulSoup(html.text,'lxml')"
   ]
  },
  {
   "cell_type": "code",
   "execution_count": 15,
   "id": "402233fa",
   "metadata": {},
   "outputs": [],
   "source": [
    "def get_next_page(current_objSoup):\n",
    "    global current_page\n",
    "    nextPages = current_objSoup.find_all('li',class_ = \"c-pager__item--count is-disable\")\n",
    "    nextpage = nextPages[0].find_all('li',class_ = 'coun')\n",
    "    print(len(nextpage))\n",
    "    for i in range(len(nextpage)):\n",
    "        if nextpage[i].text == str(current_page+1):\n",
    "            current_page += 1\n",
    "            targetpage = nextpage[i]\n",
    "            link = targetpage.find('a')['href']\n",
    "            return url[:26] + link\n",
    "    #it is end\n",
    "    return url + 'download_end'"
   ]
  },
  {
   "cell_type": "code",
   "execution_count": 7,
   "id": "892a3f54",
   "metadata": {},
   "outputs": [],
   "source": [
    "current_page = 1\n",
    "current_url = url"
   ]
  },
  {
   "cell_type": "code",
   "execution_count": 18,
   "id": "5dfcd0e8",
   "metadata": {},
   "outputs": [
    {
     "name": "stdout",
     "output_type": "stream",
     "text": [
      "6\n",
      "https://www.nogizaka46.com/s/n46/diary/MEMBER/list?ima=3220&page=2&cd=MEMBER\n"
     ]
    }
   ],
   "source": [
    "html = requests.get(current_url)\n",
    "current_objSoup = bs4.BeautifulSoup(html.text,'lxml')\n",
    "next_url = get_next_page(current_objSoup)\n",
    "print(next_url)"
   ]
  },
  {
   "cell_type": "code",
   "execution_count": 17,
   "id": "ececa4fa",
   "metadata": {},
   "outputs": [
    {
     "data": {
      "text/plain": [
       "2"
      ]
     },
     "execution_count": 17,
     "metadata": {},
     "output_type": "execute_result"
    }
   ],
   "source": [
    "current_page"
   ]
  },
  {
   "cell_type": "code",
   "execution_count": null,
   "id": "c179b148",
   "metadata": {},
   "outputs": [],
   "source": []
  }
 ],
 "metadata": {
  "kernelspec": {
   "display_name": "Python 3 (ipykernel)",
   "language": "python",
   "name": "python3"
  },
  "language_info": {
   "codemirror_mode": {
    "name": "ipython",
    "version": 3
   },
   "file_extension": ".py",
   "mimetype": "text/x-python",
   "name": "python",
   "nbconvert_exporter": "python",
   "pygments_lexer": "ipython3",
   "version": "3.9.7"
  }
 },
 "nbformat": 4,
 "nbformat_minor": 5
}
